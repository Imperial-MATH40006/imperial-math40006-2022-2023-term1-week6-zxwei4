{
 "cells": [
  {
   "cell_type": "code",
   "execution_count": 10,
   "id": "24806d8f",
   "metadata": {},
   "outputs": [],
   "source": [
    "string1=('python makes me feel dumb')"
   ]
  },
  {
   "cell_type": "code",
   "execution_count": 11,
   "id": "2b708f89",
   "metadata": {},
   "outputs": [
    {
     "data": {
      "text/plain": [
       "25"
      ]
     },
     "execution_count": 11,
     "metadata": {},
     "output_type": "execute_result"
    }
   ],
   "source": [
    "len(string1)"
   ]
  },
  {
   "cell_type": "code",
   "execution_count": 15,
   "id": "588b3885",
   "metadata": {},
   "outputs": [
    {
     "data": {
      "text/plain": [
       "['python mak', 's m', ' f', '', 'l dumb']"
      ]
     },
     "execution_count": 15,
     "metadata": {},
     "output_type": "execute_result"
    }
   ],
   "source": [
    "string1.split('e')"
   ]
  },
  {
   "cell_type": "code",
   "execution_count": 16,
   "id": "53311389",
   "metadata": {},
   "outputs": [
    {
     "data": {
      "text/plain": [
       "'python makes me feel smart'"
      ]
     },
     "execution_count": 16,
     "metadata": {},
     "output_type": "execute_result"
    }
   ],
   "source": [
    "string1.replace('dumb','smart')"
   ]
  },
  {
   "cell_type": "code",
   "execution_count": 21,
   "id": "a4c538f8",
   "metadata": {},
   "outputs": [
    {
     "data": {
      "text/plain": [
       "'python makes me feel dumb'"
      ]
     },
     "execution_count": 21,
     "metadata": {},
     "output_type": "execute_result"
    }
   ],
   "source": [
    "string1.lower()"
   ]
  },
  {
   "cell_type": "code",
   "execution_count": 23,
   "id": "0384b5a8",
   "metadata": {},
   "outputs": [
    {
     "ename": "AttributeError",
     "evalue": "'str' object has no attribute 'sort'",
     "output_type": "error",
     "traceback": [
      "\u001b[0;31m---------------------------------------------------------------------------\u001b[0m",
      "\u001b[0;31mAttributeError\u001b[0m                            Traceback (most recent call last)",
      "\u001b[0;32m/var/folders/js/642dcsgn28s1ll64145fvqx40000gn/T/ipykernel_25256/1950492141.py\u001b[0m in \u001b[0;36m<module>\u001b[0;34m\u001b[0m\n\u001b[0;32m----> 1\u001b[0;31m \u001b[0mstring1\u001b[0m\u001b[0;34m.\u001b[0m\u001b[0msort\u001b[0m\u001b[0;34m(\u001b[0m\u001b[0;34m)\u001b[0m\u001b[0;34m\u001b[0m\u001b[0;34m\u001b[0m\u001b[0m\n\u001b[0m",
      "\u001b[0;31mAttributeError\u001b[0m: 'str' object has no attribute 'sort'"
     ]
    }
   ],
   "source": [
    "string1.sort()"
   ]
  },
  {
   "cell_type": "code",
   "execution_count": null,
   "id": "b3096817",
   "metadata": {},
   "outputs": [],
   "source": []
  }
 ],
 "metadata": {
  "kernelspec": {
   "display_name": "Python 3 (ipykernel)",
   "language": "python",
   "name": "python3"
  },
  "language_info": {
   "codemirror_mode": {
    "name": "ipython",
    "version": 3
   },
   "file_extension": ".py",
   "mimetype": "text/x-python",
   "name": "python",
   "nbconvert_exporter": "python",
   "pygments_lexer": "ipython3",
   "version": "3.9.13"
  }
 },
 "nbformat": 4,
 "nbformat_minor": 5
}
